{
  "cells": [
    {
      "cell_type": "markdown",
      "metadata": {
        "id": "BOI24eEHZNkO"
      },
      "source": [
        "# Classification using K-Nearest Neighbours using Sckikit-Learn"
      ]
    },
    {
      "cell_type": "markdown",
      "metadata": {
        "id": "YQ0Z6eLpZNkR"
      },
      "source": [
        "## Importing the required packages"
      ]
    },
    {
      "cell_type": "code",
      "execution_count": null,
      "metadata": {
        "id": "DoENQngeZNkR"
      },
      "outputs": [],
      "source": [
        "import itertools\n",
        "import numpy as np\n",
        "import matplotlib.pyplot as plt\n",
        "from matplotlib.ticker import NullFormatter\n",
        "import pandas as pd\n",
        "import numpy as np\n",
        "import matplotlib.ticker as ticker\n",
        "from sklearn import preprocessing\n",
        "%matplotlib inline"
      ]
    },
    {
      "cell_type": "markdown",
      "metadata": {
        "id": "LviFnXCPZNkT"
      },
      "source": [
        "## Downloading and reading the dataset into a Panda's Dataframe from Drive"
      ]
    },
    {
      "cell_type": "code",
      "execution_count": 3,
      "metadata": {
        "colab": {
          "base_uri": "https://localhost:8080/"
        },
        "id": "D80iQUfhZNkT",
        "outputId": "c7142d73-b97b-4c8b-8148-02c30a8c24df"
      },
      "outputs": [
        {
          "output_type": "stream",
          "name": "stdout",
          "text": [
            "Drive already mounted at /content/drive; to attempt to forcibly remount, call drive.mount(\"/content/drive\", force_remount=True).\n"
          ]
        }
      ],
      "source": [
        "from google.colab import drive\n",
        "import pandas as pd\n",
        "\n",
        "# Mount your Google Drive\n",
        "drive.mount('/content/drive')\n",
        "\n",
        "# Path to your file (adjust if stored elsewhere)\n",
        "path = \"/content/drive/My Drive/datasets/Flight_Price_Dataset_of_Bangladesh.csv\""
      ]
    },
    {
      "cell_type": "code",
      "execution_count": 2,
      "metadata": {
        "colab": {
          "base_uri": "https://localhost:8080/",
          "height": 590
        },
        "id": "XPw108Q9ZNkV",
        "outputId": "7d053080-25b2-4d5e-d247-59811c2f8574"
      },
      "outputs": [
        {
          "output_type": "stream",
          "name": "stdout",
          "text": [
            "(57000, 17)\n"
          ]
        },
        {
          "output_type": "execute_result",
          "data": {
            "text/plain": [
              "              Airline Source                           Source Name  \\\n",
              "0  Malaysian Airlines    CXB                   Cox's Bazar Airport   \n",
              "1      Cathay Pacific    BZL                       Barisal Airport   \n",
              "2     British Airways    ZYL  Osmani International Airport, Sylhet   \n",
              "3  Singapore Airlines    RJH        Shah Makhdum Airport, Rajshahi   \n",
              "4     British Airways    SPD                       Saidpur Airport   \n",
              "\n",
              "  Destination                                   Destination Name  \\\n",
              "0         CCU  Netaji Subhas Chandra Bose International Airpo...   \n",
              "1         CGP      Shah Amanat International Airport, Chittagong   \n",
              "2         KUL                 Kuala Lumpur International Airport   \n",
              "3         DAC      Hazrat Shahjalal International Airport, Dhaka   \n",
              "4         YYZ              Toronto Pearson International Airport   \n",
              "\n",
              "  Departure Date & Time  Arrival Date & Time  Duration (hrs) Stopovers  \\\n",
              "0   2025-11-17 06:25:00  2025-11-17 07:38:10        1.219526    Direct   \n",
              "1   2025-03-16 00:17:00  2025-03-16 00:53:31        0.608638    Direct   \n",
              "2   2025-12-13 12:03:00  2025-12-13 14:44:22        2.689651    1 Stop   \n",
              "3   2025-05-30 03:21:00  2025-05-30 04:02:09        0.686054    Direct   \n",
              "4   2025-04-25 09:14:00  2025-04-25 23:17:20       14.055609    1 Stop   \n",
              "\n",
              "  Aircraft Type        Class  Booking Source  Base Fare (BDT)  \\\n",
              "0   Airbus A320      Economy  Online Website     21131.225021   \n",
              "1   Airbus A320  First Class   Travel Agency     11605.395471   \n",
              "2    Boeing 787      Economy   Travel Agency     39882.499349   \n",
              "3   Airbus A320      Economy  Direct Booking      4435.607340   \n",
              "4   Airbus A350     Business  Direct Booking     59243.806146   \n",
              "\n",
              "   Tax & Surcharge (BDT)  Total Fare (BDT)      Seasonality  \\\n",
              "0            5169.683753      26300.908775          Regular   \n",
              "1             200.000000      11805.395471          Regular   \n",
              "2           11982.374902      51864.874251  Winter Holidays   \n",
              "3             200.000000       4635.607340          Regular   \n",
              "4           14886.570922      74130.377068          Regular   \n",
              "\n",
              "   Days Before Departure  \n",
              "0                     10  \n",
              "1                     14  \n",
              "2                     83  \n",
              "3                     56  \n",
              "4                     90  "
            ],
            "text/html": [
              "\n",
              "  <div id=\"df-c7fb4264-37c1-458c-9dba-eda42e1b8ae0\" class=\"colab-df-container\">\n",
              "    <div>\n",
              "<style scoped>\n",
              "    .dataframe tbody tr th:only-of-type {\n",
              "        vertical-align: middle;\n",
              "    }\n",
              "\n",
              "    .dataframe tbody tr th {\n",
              "        vertical-align: top;\n",
              "    }\n",
              "\n",
              "    .dataframe thead th {\n",
              "        text-align: right;\n",
              "    }\n",
              "</style>\n",
              "<table border=\"1\" class=\"dataframe\">\n",
              "  <thead>\n",
              "    <tr style=\"text-align: right;\">\n",
              "      <th></th>\n",
              "      <th>Airline</th>\n",
              "      <th>Source</th>\n",
              "      <th>Source Name</th>\n",
              "      <th>Destination</th>\n",
              "      <th>Destination Name</th>\n",
              "      <th>Departure Date &amp; Time</th>\n",
              "      <th>Arrival Date &amp; Time</th>\n",
              "      <th>Duration (hrs)</th>\n",
              "      <th>Stopovers</th>\n",
              "      <th>Aircraft Type</th>\n",
              "      <th>Class</th>\n",
              "      <th>Booking Source</th>\n",
              "      <th>Base Fare (BDT)</th>\n",
              "      <th>Tax &amp; Surcharge (BDT)</th>\n",
              "      <th>Total Fare (BDT)</th>\n",
              "      <th>Seasonality</th>\n",
              "      <th>Days Before Departure</th>\n",
              "    </tr>\n",
              "  </thead>\n",
              "  <tbody>\n",
              "    <tr>\n",
              "      <th>0</th>\n",
              "      <td>Malaysian Airlines</td>\n",
              "      <td>CXB</td>\n",
              "      <td>Cox's Bazar Airport</td>\n",
              "      <td>CCU</td>\n",
              "      <td>Netaji Subhas Chandra Bose International Airpo...</td>\n",
              "      <td>2025-11-17 06:25:00</td>\n",
              "      <td>2025-11-17 07:38:10</td>\n",
              "      <td>1.219526</td>\n",
              "      <td>Direct</td>\n",
              "      <td>Airbus A320</td>\n",
              "      <td>Economy</td>\n",
              "      <td>Online Website</td>\n",
              "      <td>21131.225021</td>\n",
              "      <td>5169.683753</td>\n",
              "      <td>26300.908775</td>\n",
              "      <td>Regular</td>\n",
              "      <td>10</td>\n",
              "    </tr>\n",
              "    <tr>\n",
              "      <th>1</th>\n",
              "      <td>Cathay Pacific</td>\n",
              "      <td>BZL</td>\n",
              "      <td>Barisal Airport</td>\n",
              "      <td>CGP</td>\n",
              "      <td>Shah Amanat International Airport, Chittagong</td>\n",
              "      <td>2025-03-16 00:17:00</td>\n",
              "      <td>2025-03-16 00:53:31</td>\n",
              "      <td>0.608638</td>\n",
              "      <td>Direct</td>\n",
              "      <td>Airbus A320</td>\n",
              "      <td>First Class</td>\n",
              "      <td>Travel Agency</td>\n",
              "      <td>11605.395471</td>\n",
              "      <td>200.000000</td>\n",
              "      <td>11805.395471</td>\n",
              "      <td>Regular</td>\n",
              "      <td>14</td>\n",
              "    </tr>\n",
              "    <tr>\n",
              "      <th>2</th>\n",
              "      <td>British Airways</td>\n",
              "      <td>ZYL</td>\n",
              "      <td>Osmani International Airport, Sylhet</td>\n",
              "      <td>KUL</td>\n",
              "      <td>Kuala Lumpur International Airport</td>\n",
              "      <td>2025-12-13 12:03:00</td>\n",
              "      <td>2025-12-13 14:44:22</td>\n",
              "      <td>2.689651</td>\n",
              "      <td>1 Stop</td>\n",
              "      <td>Boeing 787</td>\n",
              "      <td>Economy</td>\n",
              "      <td>Travel Agency</td>\n",
              "      <td>39882.499349</td>\n",
              "      <td>11982.374902</td>\n",
              "      <td>51864.874251</td>\n",
              "      <td>Winter Holidays</td>\n",
              "      <td>83</td>\n",
              "    </tr>\n",
              "    <tr>\n",
              "      <th>3</th>\n",
              "      <td>Singapore Airlines</td>\n",
              "      <td>RJH</td>\n",
              "      <td>Shah Makhdum Airport, Rajshahi</td>\n",
              "      <td>DAC</td>\n",
              "      <td>Hazrat Shahjalal International Airport, Dhaka</td>\n",
              "      <td>2025-05-30 03:21:00</td>\n",
              "      <td>2025-05-30 04:02:09</td>\n",
              "      <td>0.686054</td>\n",
              "      <td>Direct</td>\n",
              "      <td>Airbus A320</td>\n",
              "      <td>Economy</td>\n",
              "      <td>Direct Booking</td>\n",
              "      <td>4435.607340</td>\n",
              "      <td>200.000000</td>\n",
              "      <td>4635.607340</td>\n",
              "      <td>Regular</td>\n",
              "      <td>56</td>\n",
              "    </tr>\n",
              "    <tr>\n",
              "      <th>4</th>\n",
              "      <td>British Airways</td>\n",
              "      <td>SPD</td>\n",
              "      <td>Saidpur Airport</td>\n",
              "      <td>YYZ</td>\n",
              "      <td>Toronto Pearson International Airport</td>\n",
              "      <td>2025-04-25 09:14:00</td>\n",
              "      <td>2025-04-25 23:17:20</td>\n",
              "      <td>14.055609</td>\n",
              "      <td>1 Stop</td>\n",
              "      <td>Airbus A350</td>\n",
              "      <td>Business</td>\n",
              "      <td>Direct Booking</td>\n",
              "      <td>59243.806146</td>\n",
              "      <td>14886.570922</td>\n",
              "      <td>74130.377068</td>\n",
              "      <td>Regular</td>\n",
              "      <td>90</td>\n",
              "    </tr>\n",
              "  </tbody>\n",
              "</table>\n",
              "</div>\n",
              "    <div class=\"colab-df-buttons\">\n",
              "\n",
              "  <div class=\"colab-df-container\">\n",
              "    <button class=\"colab-df-convert\" onclick=\"convertToInteractive('df-c7fb4264-37c1-458c-9dba-eda42e1b8ae0')\"\n",
              "            title=\"Convert this dataframe to an interactive table.\"\n",
              "            style=\"display:none;\">\n",
              "\n",
              "  <svg xmlns=\"http://www.w3.org/2000/svg\" height=\"24px\" viewBox=\"0 -960 960 960\">\n",
              "    <path d=\"M120-120v-720h720v720H120Zm60-500h600v-160H180v160Zm220 220h160v-160H400v160Zm0 220h160v-160H400v160ZM180-400h160v-160H180v160Zm440 0h160v-160H620v160ZM180-180h160v-160H180v160Zm440 0h160v-160H620v160Z\"/>\n",
              "  </svg>\n",
              "    </button>\n",
              "\n",
              "  <style>\n",
              "    .colab-df-container {\n",
              "      display:flex;\n",
              "      gap: 12px;\n",
              "    }\n",
              "\n",
              "    .colab-df-convert {\n",
              "      background-color: #E8F0FE;\n",
              "      border: none;\n",
              "      border-radius: 50%;\n",
              "      cursor: pointer;\n",
              "      display: none;\n",
              "      fill: #1967D2;\n",
              "      height: 32px;\n",
              "      padding: 0 0 0 0;\n",
              "      width: 32px;\n",
              "    }\n",
              "\n",
              "    .colab-df-convert:hover {\n",
              "      background-color: #E2EBFA;\n",
              "      box-shadow: 0px 1px 2px rgba(60, 64, 67, 0.3), 0px 1px 3px 1px rgba(60, 64, 67, 0.15);\n",
              "      fill: #174EA6;\n",
              "    }\n",
              "\n",
              "    .colab-df-buttons div {\n",
              "      margin-bottom: 4px;\n",
              "    }\n",
              "\n",
              "    [theme=dark] .colab-df-convert {\n",
              "      background-color: #3B4455;\n",
              "      fill: #D2E3FC;\n",
              "    }\n",
              "\n",
              "    [theme=dark] .colab-df-convert:hover {\n",
              "      background-color: #434B5C;\n",
              "      box-shadow: 0px 1px 3px 1px rgba(0, 0, 0, 0.15);\n",
              "      filter: drop-shadow(0px 1px 2px rgba(0, 0, 0, 0.3));\n",
              "      fill: #FFFFFF;\n",
              "    }\n",
              "  </style>\n",
              "\n",
              "    <script>\n",
              "      const buttonEl =\n",
              "        document.querySelector('#df-c7fb4264-37c1-458c-9dba-eda42e1b8ae0 button.colab-df-convert');\n",
              "      buttonEl.style.display =\n",
              "        google.colab.kernel.accessAllowed ? 'block' : 'none';\n",
              "\n",
              "      async function convertToInteractive(key) {\n",
              "        const element = document.querySelector('#df-c7fb4264-37c1-458c-9dba-eda42e1b8ae0');\n",
              "        const dataTable =\n",
              "          await google.colab.kernel.invokeFunction('convertToInteractive',\n",
              "                                                    [key], {});\n",
              "        if (!dataTable) return;\n",
              "\n",
              "        const docLinkHtml = 'Like what you see? Visit the ' +\n",
              "          '<a target=\"_blank\" href=https://colab.research.google.com/notebooks/data_table.ipynb>data table notebook</a>'\n",
              "          + ' to learn more about interactive tables.';\n",
              "        element.innerHTML = '';\n",
              "        dataTable['output_type'] = 'display_data';\n",
              "        await google.colab.output.renderOutput(dataTable, element);\n",
              "        const docLink = document.createElement('div');\n",
              "        docLink.innerHTML = docLinkHtml;\n",
              "        element.appendChild(docLink);\n",
              "      }\n",
              "    </script>\n",
              "  </div>\n",
              "\n",
              "\n",
              "    <div id=\"df-874afe70-ec14-4320-9cb4-7b1767a2fe21\">\n",
              "      <button class=\"colab-df-quickchart\" onclick=\"quickchart('df-874afe70-ec14-4320-9cb4-7b1767a2fe21')\"\n",
              "                title=\"Suggest charts\"\n",
              "                style=\"display:none;\">\n",
              "\n",
              "<svg xmlns=\"http://www.w3.org/2000/svg\" height=\"24px\"viewBox=\"0 0 24 24\"\n",
              "     width=\"24px\">\n",
              "    <g>\n",
              "        <path d=\"M19 3H5c-1.1 0-2 .9-2 2v14c0 1.1.9 2 2 2h14c1.1 0 2-.9 2-2V5c0-1.1-.9-2-2-2zM9 17H7v-7h2v7zm4 0h-2V7h2v10zm4 0h-2v-4h2v4z\"/>\n",
              "    </g>\n",
              "</svg>\n",
              "      </button>\n",
              "\n",
              "<style>\n",
              "  .colab-df-quickchart {\n",
              "      --bg-color: #E8F0FE;\n",
              "      --fill-color: #1967D2;\n",
              "      --hover-bg-color: #E2EBFA;\n",
              "      --hover-fill-color: #174EA6;\n",
              "      --disabled-fill-color: #AAA;\n",
              "      --disabled-bg-color: #DDD;\n",
              "  }\n",
              "\n",
              "  [theme=dark] .colab-df-quickchart {\n",
              "      --bg-color: #3B4455;\n",
              "      --fill-color: #D2E3FC;\n",
              "      --hover-bg-color: #434B5C;\n",
              "      --hover-fill-color: #FFFFFF;\n",
              "      --disabled-bg-color: #3B4455;\n",
              "      --disabled-fill-color: #666;\n",
              "  }\n",
              "\n",
              "  .colab-df-quickchart {\n",
              "    background-color: var(--bg-color);\n",
              "    border: none;\n",
              "    border-radius: 50%;\n",
              "    cursor: pointer;\n",
              "    display: none;\n",
              "    fill: var(--fill-color);\n",
              "    height: 32px;\n",
              "    padding: 0;\n",
              "    width: 32px;\n",
              "  }\n",
              "\n",
              "  .colab-df-quickchart:hover {\n",
              "    background-color: var(--hover-bg-color);\n",
              "    box-shadow: 0 1px 2px rgba(60, 64, 67, 0.3), 0 1px 3px 1px rgba(60, 64, 67, 0.15);\n",
              "    fill: var(--button-hover-fill-color);\n",
              "  }\n",
              "\n",
              "  .colab-df-quickchart-complete:disabled,\n",
              "  .colab-df-quickchart-complete:disabled:hover {\n",
              "    background-color: var(--disabled-bg-color);\n",
              "    fill: var(--disabled-fill-color);\n",
              "    box-shadow: none;\n",
              "  }\n",
              "\n",
              "  .colab-df-spinner {\n",
              "    border: 2px solid var(--fill-color);\n",
              "    border-color: transparent;\n",
              "    border-bottom-color: var(--fill-color);\n",
              "    animation:\n",
              "      spin 1s steps(1) infinite;\n",
              "  }\n",
              "\n",
              "  @keyframes spin {\n",
              "    0% {\n",
              "      border-color: transparent;\n",
              "      border-bottom-color: var(--fill-color);\n",
              "      border-left-color: var(--fill-color);\n",
              "    }\n",
              "    20% {\n",
              "      border-color: transparent;\n",
              "      border-left-color: var(--fill-color);\n",
              "      border-top-color: var(--fill-color);\n",
              "    }\n",
              "    30% {\n",
              "      border-color: transparent;\n",
              "      border-left-color: var(--fill-color);\n",
              "      border-top-color: var(--fill-color);\n",
              "      border-right-color: var(--fill-color);\n",
              "    }\n",
              "    40% {\n",
              "      border-color: transparent;\n",
              "      border-right-color: var(--fill-color);\n",
              "      border-top-color: var(--fill-color);\n",
              "    }\n",
              "    60% {\n",
              "      border-color: transparent;\n",
              "      border-right-color: var(--fill-color);\n",
              "    }\n",
              "    80% {\n",
              "      border-color: transparent;\n",
              "      border-right-color: var(--fill-color);\n",
              "      border-bottom-color: var(--fill-color);\n",
              "    }\n",
              "    90% {\n",
              "      border-color: transparent;\n",
              "      border-bottom-color: var(--fill-color);\n",
              "    }\n",
              "  }\n",
              "</style>\n",
              "\n",
              "      <script>\n",
              "        async function quickchart(key) {\n",
              "          const quickchartButtonEl =\n",
              "            document.querySelector('#' + key + ' button');\n",
              "          quickchartButtonEl.disabled = true;  // To prevent multiple clicks.\n",
              "          quickchartButtonEl.classList.add('colab-df-spinner');\n",
              "          try {\n",
              "            const charts = await google.colab.kernel.invokeFunction(\n",
              "                'suggestCharts', [key], {});\n",
              "          } catch (error) {\n",
              "            console.error('Error during call to suggestCharts:', error);\n",
              "          }\n",
              "          quickchartButtonEl.classList.remove('colab-df-spinner');\n",
              "          quickchartButtonEl.classList.add('colab-df-quickchart-complete');\n",
              "        }\n",
              "        (() => {\n",
              "          let quickchartButtonEl =\n",
              "            document.querySelector('#df-874afe70-ec14-4320-9cb4-7b1767a2fe21 button');\n",
              "          quickchartButtonEl.style.display =\n",
              "            google.colab.kernel.accessAllowed ? 'block' : 'none';\n",
              "        })();\n",
              "      </script>\n",
              "    </div>\n",
              "\n",
              "    </div>\n",
              "  </div>\n"
            ],
            "application/vnd.google.colaboratory.intrinsic+json": {
              "type": "dataframe",
              "variable_name": "df",
              "summary": "{\n  \"name\": \"df\",\n  \"rows\": 57000,\n  \"fields\": [\n    {\n      \"column\": \"Airline\",\n      \"properties\": {\n        \"dtype\": \"category\",\n        \"num_unique_values\": 24,\n        \"samples\": [\n          \"Gulf Air\",\n          \"Air India\",\n          \"Malaysian Airlines\"\n        ],\n        \"semantic_type\": \"\",\n        \"description\": \"\"\n      }\n    },\n    {\n      \"column\": \"Source\",\n      \"properties\": {\n        \"dtype\": \"category\",\n        \"num_unique_values\": 8,\n        \"samples\": [\n          \"BZL\",\n          \"JSR\",\n          \"CXB\"\n        ],\n        \"semantic_type\": \"\",\n        \"description\": \"\"\n      }\n    },\n    {\n      \"column\": \"Source Name\",\n      \"properties\": {\n        \"dtype\": \"category\",\n        \"num_unique_values\": 8,\n        \"samples\": [\n          \"Barisal Airport\",\n          \"Jessore Airport\",\n          \"Cox's Bazar Airport\"\n        ],\n        \"semantic_type\": \"\",\n        \"description\": \"\"\n      }\n    },\n    {\n      \"column\": \"Destination\",\n      \"properties\": {\n        \"dtype\": \"category\",\n        \"num_unique_values\": 20,\n        \"samples\": [\n          \"CCU\",\n          \"DOH\",\n          \"SIN\"\n        ],\n        \"semantic_type\": \"\",\n        \"description\": \"\"\n      }\n    },\n    {\n      \"column\": \"Destination Name\",\n      \"properties\": {\n        \"dtype\": \"category\",\n        \"num_unique_values\": 20,\n        \"samples\": [\n          \"Netaji Subhas Chandra Bose International Airport, Kolkata\",\n          \"Hamad International Airport, Doha\",\n          \"Singapore Changi Airport\"\n        ],\n        \"semantic_type\": \"\",\n        \"description\": \"\"\n      }\n    },\n    {\n      \"column\": \"Departure Date & Time\",\n      \"properties\": {\n        \"dtype\": \"object\",\n        \"num_unique_values\": 54126,\n        \"samples\": [\n          \"2025-03-18 12:29:00\",\n          \"2025-06-17 13:05:00\",\n          \"2025-05-07 09:09:00\"\n        ],\n        \"semantic_type\": \"\",\n        \"description\": \"\"\n      }\n    },\n    {\n      \"column\": \"Arrival Date & Time\",\n      \"properties\": {\n        \"dtype\": \"object\",\n        \"num_unique_values\": 56944,\n        \"samples\": [\n          \"2025-11-09 10:20:29\",\n          \"2025-03-13 14:41:59\",\n          \"2025-06-03 17:17:02\"\n        ],\n        \"semantic_type\": \"\",\n        \"description\": \"\"\n      }\n    },\n    {\n      \"column\": \"Duration (hrs)\",\n      \"properties\": {\n        \"dtype\": \"number\",\n        \"std\": 4.094042529800683,\n        \"min\": 0.5,\n        \"max\": 15.83171913401724,\n        \"num_unique_values\": 53135,\n        \"samples\": [\n          1.1035303891796158,\n          2.0287485996955907,\n          7.1651247106788585\n        ],\n        \"semantic_type\": \"\",\n        \"description\": \"\"\n      }\n    },\n    {\n      \"column\": \"Stopovers\",\n      \"properties\": {\n        \"dtype\": \"category\",\n        \"num_unique_values\": 3,\n        \"samples\": [\n          \"Direct\",\n          \"1 Stop\",\n          \"2 Stops\"\n        ],\n        \"semantic_type\": \"\",\n        \"description\": \"\"\n      }\n    },\n    {\n      \"column\": \"Aircraft Type\",\n      \"properties\": {\n        \"dtype\": \"category\",\n        \"num_unique_values\": 5,\n        \"samples\": [\n          \"Boeing 787\",\n          \"Boeing 737\",\n          \"Airbus A350\"\n        ],\n        \"semantic_type\": \"\",\n        \"description\": \"\"\n      }\n    },\n    {\n      \"column\": \"Class\",\n      \"properties\": {\n        \"dtype\": \"category\",\n        \"num_unique_values\": 3,\n        \"samples\": [\n          \"Economy\",\n          \"First Class\",\n          \"Business\"\n        ],\n        \"semantic_type\": \"\",\n        \"description\": \"\"\n      }\n    },\n    {\n      \"column\": \"Booking Source\",\n      \"properties\": {\n        \"dtype\": \"category\",\n        \"num_unique_values\": 3,\n        \"samples\": [\n          \"Online Website\",\n          \"Travel Agency\",\n          \"Direct Booking\"\n        ],\n        \"semantic_type\": \"\",\n        \"description\": \"\"\n      }\n    },\n    {\n      \"column\": \"Base Fare (BDT)\",\n      \"properties\": {\n        \"dtype\": \"number\",\n        \"std\": 68840.6144989146,\n        \"min\": 1600.9756881504618,\n        \"max\": 449222.93377037166,\n        \"num_unique_values\": 57000,\n        \"samples\": [\n          3243.6805865199294,\n          55317.24453128397,\n          2398.866083660674\n        ],\n        \"semantic_type\": \"\",\n        \"description\": \"\"\n      }\n    },\n    {\n      \"column\": \"Tax & Surcharge (BDT)\",\n      \"properties\": {\n        \"dtype\": \"number\",\n        \"std\": 12124.344328813713,\n        \"min\": 200.0,\n        \"max\": 73383.44006555574,\n        \"num_unique_values\": 35969,\n        \"samples\": [\n          47911.65111585043,\n          16355.600339815075,\n          26178.697774057982\n        ],\n        \"semantic_type\": \"\",\n        \"description\": \"\"\n      }\n    },\n    {\n      \"column\": \"Total Fare (BDT)\",\n      \"properties\": {\n        \"dtype\": \"number\",\n        \"std\": 81769.19953622721,\n        \"min\": 1800.9756881504618,\n        \"max\": 558987.332444109,\n        \"num_unique_values\": 57000,\n        \"samples\": [\n          3443.6805865199294,\n          69614.83121097657,\n          2598.866083660674\n        ],\n        \"semantic_type\": \"\",\n        \"description\": \"\"\n      }\n    },\n    {\n      \"column\": \"Seasonality\",\n      \"properties\": {\n        \"dtype\": \"category\",\n        \"num_unique_values\": 4,\n        \"samples\": [\n          \"Winter Holidays\",\n          \"Hajj\",\n          \"Regular\"\n        ],\n        \"semantic_type\": \"\",\n        \"description\": \"\"\n      }\n    },\n    {\n      \"column\": \"Days Before Departure\",\n      \"properties\": {\n        \"dtype\": \"number\",\n        \"std\": 26,\n        \"min\": 1,\n        \"max\": 90,\n        \"num_unique_values\": 90,\n        \"samples\": [\n          81,\n          3,\n          51\n        ],\n        \"semantic_type\": \"\",\n        \"description\": \"\"\n      }\n    }\n  ]\n}"
            }
          },
          "metadata": {},
          "execution_count": 2
        }
      ],
      "source": [
        "# Load dataset\n",
        "df = pd.read_csv(path)\n",
        "\n",
        "# Preview\n",
        "print(df.shape)\n",
        "df.head()"
      ]
    },
    {
      "cell_type": "markdown",
      "metadata": {
        "id": "BvyvdcnLZNkV"
      },
      "source": [
        "### To use scikit-learn library, we have to convert the Pandas data frame to a Numpy array:"
      ]
    },
    {
      "cell_type": "code",
      "execution_count": 49,
      "metadata": {
        "colab": {
          "base_uri": "https://localhost:8080/"
        },
        "id": "GwjWWcwvZNkV",
        "outputId": "ab577ffb-de2a-4495-a37d-e07de59f21cd"
      },
      "outputs": [
        {
          "output_type": "stream",
          "name": "stdout",
          "text": [
            "Original X shape: (57000, 4)\n",
            "Original X columns: ['Source', 'Destination', 'Duration (hrs)', 'Total Fare (BDT)']\n",
            "\n",
            "Original X sample:\n",
            "  Source Destination  Duration (hrs)  Total Fare (BDT)\n",
            "0    CXB         CCU        1.219526      26300.908775\n",
            "1    BZL         CGP        0.608638      11805.395471\n",
            "2    ZYL         KUL        2.689651      51864.874251\n",
            "3    RJH         DAC        0.686054       4635.607340\n",
            "4    SPD         YYZ       14.055609      74130.377068\n",
            "\n",
            "After encoding:\n",
            "Encoded X sample:\n",
            "  Source Destination  Duration (hrs)  Total Fare (BDT)\n",
            "0      2           2        1.219526      26300.908775\n",
            "1      0           3        0.608638      11805.395471\n",
            "2      7          13        2.689651      51864.874251\n",
            "3      5           5        0.686054       4635.607340\n",
            "4      6          18       14.055609      74130.377068\n",
            "\n",
            "Source categories: ['BZL' 'CGP' 'CXB' 'DAC' 'JSR' 'RJH' 'SPD' 'ZYL']\n",
            "Destination categories: ['BKK' 'BZL' 'CCU' 'CGP' 'CXB' 'DAC' 'DEL' 'DOH' 'DXB' 'IST' 'JED' 'JFK'\n",
            " 'JSR' 'KUL' 'LHR' 'RJH' 'SIN' 'SPD' 'YYZ' 'ZYL']\n"
          ]
        }
      ],
      "source": [
        "# Fix the warning by making an explicit copy\n",
        "X = df[['Source', 'Destination', 'Duration (hrs)', 'Total Fare (BDT)']].copy()  # Add .copy() here\n",
        "y = df['Total Fare (BDT)']  # If you want Total Fare as target\n",
        "\n",
        "print(\"Original X shape:\", X.shape)\n",
        "print(\"Original X columns:\", X.columns.tolist())\n",
        "print(\"\\nOriginal X sample:\")\n",
        "print(X.head())\n",
        "\n",
        "# 4. Encode categorical features\n",
        "le_source = preprocessing.LabelEncoder()\n",
        "X.loc[:, 'Source'] = le_source.fit_transform(X['Source'])  # Use .loc to avoid the warning\n",
        "\n",
        "le_dest = preprocessing.LabelEncoder()\n",
        "X.loc[:, 'Destination'] = le_dest.fit_transform(X['Destination'])  # Use .loc to avoid the warning\n",
        "\n",
        "print(\"\\nAfter encoding:\")\n",
        "print(\"Encoded X sample:\")\n",
        "print(X.head())\n",
        "\n",
        "print(\"\\nSource categories:\", le_source.classes_)\n",
        "print(\"Destination categories:\", le_dest.classes_)"
      ]
    },
    {
      "cell_type": "code",
      "execution_count": 50,
      "metadata": {
        "colab": {
          "base_uri": "https://localhost:8080/"
        },
        "id": "utXTVO6EZNkW",
        "outputId": "9adda942-8512-4833-a0f6-d4bbd73b3077"
      },
      "outputs": [
        {
          "output_type": "stream",
          "name": "stdout",
          "text": [
            "[26300.90877462 11805.39547057 51864.87425106  4635.6073403\n",
            " 74130.37706775]\n"
          ]
        }
      ],
      "source": [
        "y = y.values\n",
        "print(y[:5])"
      ]
    },
    {
      "cell_type": "markdown",
      "metadata": {
        "id": "VtFnAaVDZNkW"
      },
      "source": [
        "## Normalizing the data\n",
        "\n",
        "\n",
        "Data Standardization give data zero mean and unit variance, it is good practice, especially for algorithms such as KNN which is based on distance of cases:"
      ]
    },
    {
      "cell_type": "code",
      "execution_count": 51,
      "metadata": {
        "colab": {
          "base_uri": "https://localhost:8080/"
        },
        "id": "OknRndV0ZNkW",
        "outputId": "6316a8c8-6613-4c71-a24d-fa03649936a6"
      },
      "outputs": [
        {
          "output_type": "execute_result",
          "data": {
            "text/plain": [
              "array([[-0.6530331 , -1.31098614, -0.67792479, -0.54702504],\n",
              "       [-1.52538659, -1.13633343, -0.8271401 , -0.72430011],\n",
              "       [ 1.5278506 ,  0.61019367, -0.31883302, -0.23438667],\n",
              "       [ 0.65549712, -0.78702801, -0.80823059, -0.81198412],\n",
              "       [ 1.09167386,  1.48345723,  2.45741034,  0.03791266]])"
            ]
          },
          "metadata": {},
          "execution_count": 51
        }
      ],
      "source": [
        "from sklearn.preprocessing import StandardScaler\n",
        "\n",
        "# Standardize features\n",
        "scaler = StandardScaler()\n",
        "X = scaler.fit_transform(X.astype(float))\n",
        "\n",
        "# Preview first 5 rows\n",
        "X[0:5]\n"
      ]
    },
    {
      "cell_type": "markdown",
      "metadata": {
        "id": "4sMbKFMRZNkX"
      },
      "source": [
        "## Train and Test Data split"
      ]
    },
    {
      "cell_type": "code",
      "execution_count": 52,
      "metadata": {
        "colab": {
          "base_uri": "https://localhost:8080/"
        },
        "id": "rx9ieVLLZNkX",
        "outputId": "16be13c6-8b4f-4262-95fb-593ac870ff28"
      },
      "outputs": [
        {
          "output_type": "stream",
          "name": "stdout",
          "text": [
            "Train set: (45600, 4) (45600,)\n",
            "Test set: (11400, 4) (11400,)\n"
          ]
        }
      ],
      "source": [
        "from sklearn.model_selection import train_test_split\n",
        "\n",
        "# y is already a NumPy array, no .values needed\n",
        "X_train, X_test, y_train, y_test = train_test_split(X, y, test_size=0.2, random_state=4)\n",
        "\n",
        "print('Train set:', X_train.shape, y_train.shape)\n",
        "print('Test set:', X_test.shape, y_test.shape)"
      ]
    },
    {
      "cell_type": "markdown",
      "metadata": {
        "id": "ZcbL6kAOZNkY"
      },
      "source": [
        "## Importing KNN library"
      ]
    },
    {
      "cell_type": "code",
      "execution_count": 53,
      "metadata": {
        "id": "YDNl69-9ZNkY"
      },
      "outputs": [],
      "source": [
        "from sklearn.neighbors import KNeighborsClassifier"
      ]
    },
    {
      "cell_type": "code",
      "execution_count": 54,
      "metadata": {
        "id": "UMYRS8jiZNkZ"
      },
      "outputs": [],
      "source": [
        "from sklearn import metrics"
      ]
    },
    {
      "cell_type": "markdown",
      "metadata": {
        "id": "Pk7W0lGRZNkZ"
      },
      "source": [
        "## Training the Machine Learning models for different K's"
      ]
    },
    {
      "cell_type": "code",
      "execution_count": 55,
      "metadata": {
        "colab": {
          "base_uri": "https://localhost:8080/"
        },
        "id": "L-fa4MDuZNkZ",
        "outputId": "d21e85d5-f1a4-4e95-8e19-630bccc70091"
      },
      "outputs": [
        {
          "output_type": "execute_result",
          "data": {
            "text/plain": [
              "array([0.99913048, 0.99908206, 0.99909879, 0.998981  , 0.9989521 ,\n",
              "       0.99889279, 0.9988167 , 0.9987415 , 0.99865732])"
            ]
          },
          "metadata": {},
          "execution_count": 55
        }
      ],
      "source": [
        "from sklearn.neighbors import KNeighborsClassifier\n",
        "from sklearn.neighbors import KNeighborsRegressor\n",
        "from sklearn import metrics\n",
        "import numpy as np\n",
        "\n",
        "\n",
        "\n",
        "Ks = 10\n",
        "mean_acc = np.zeros((Ks-1))\n",
        "std_acc = np.zeros((Ks-1))\n",
        "\n",
        "for n in range(1, Ks):\n",
        "    # Train Model and Predict\n",
        "    neigh = KNeighborsRegressor(n_neighbors=n).fit(X_train, y_train)\n",
        "    yhat = neigh.predict(X_test)\n",
        "\n",
        "    # Regression evaluation\n",
        "    mean_acc[n-1] = metrics.r2_score(y_test, yhat)\n",
        "    std_acc[n-1] = np.std(yhat - y_test) / np.sqrt(yhat.shape[0])\n",
        "\n",
        "mean_acc\n",
        "\n",
        "\n",
        "\n"
      ]
    },
    {
      "cell_type": "code",
      "execution_count": 56,
      "metadata": {
        "colab": {
          "base_uri": "https://localhost:8080/",
          "height": 487
        },
        "id": "tzmzKfgCZNka",
        "outputId": "92ba8c0e-a343-4008-9b3b-33efbb020b73"
      },
      "outputs": [
        {
          "output_type": "display_data",
          "data": {
            "text/plain": [
              "<Figure size 640x480 with 1 Axes>"
            ],
            "image/png": "[encoded data removed]"
          },
          "metadata": {}
        }
      ],
      "source": [
        "import matplotlib.pyplot as plt\n",
        "\n",
        "plt.plot(range(1, Ks), mean_acc, 'g')\n",
        "plt.fill_between(range(1, Ks), mean_acc - 1 * std_acc, mean_acc + 1 * std_acc, alpha=0.1)\n",
        "plt.legend(('R^2 Score', '+/- 1 std'))\n",
        "plt.ylabel('R^2 Score')\n",
        "plt.xlabel('Number of Neighbors (K)')\n",
        "plt.title('KNN Regression Performance')\n",
        "plt.tight_layout()\n",
        "plt.show()"
      ]
    },
    {
      "cell_type": "code",
      "execution_count": 57,
      "metadata": {
        "colab": {
          "base_uri": "https://localhost:8080/"
        },
        "id": "TGtkCkf5ZNka",
        "outputId": "c7d35ef6-6547-4da7-823e-801741d53f27"
      },
      "outputs": [
        {
          "output_type": "stream",
          "name": "stdout",
          "text": [
            "The best accuracy was with 0.9991304798972042 with k= 1\n"
          ]
        }
      ],
      "source": [
        "print( \"The best accuracy was with\", mean_acc.max(), \"with k=\", mean_acc.argmax()+1)"
      ]
    }
  ],
  "metadata": {
    "kernelspec": {
      "display_name": "Python 3",
      "language": "python",
      "name": "python3"
    },
    "language_info": {
      "codemirror_mode": {
        "name": "ipython",
        "version": 3
      },
      "file_extension": ".py",
      "mimetype": "text/x-python",
      "name": "python",
      "nbconvert_exporter": "python",
      "pygments_lexer": "ipython3",
      "version": "3.7.2"
    },
    "colab": {
      "provenance": []
    }
  },
  "nbformat": 4,
  "nbformat_minor": 0
}